{
  "nbformat": 4,
  "nbformat_minor": 0,
  "metadata": {
    "colab": {
      "name": "LimpiaTuCanton.ipynb",
      "provenance": [],
      "collapsed_sections": []
    },
    "kernelspec": {
      "name": "python3",
      "display_name": "Python 3"
    },
    "language_info": {
      "name": "python"
    }
  },
  "cells": [
    {
      "cell_type": "markdown",
      "metadata": {
        "id": "oYon3cg-EQbh"
      },
      "source": [
        "# Data Wrangling And Engineering"
      ]
    },
    {
      "cell_type": "markdown",
      "metadata": {
        "id": "wvq4bEWeEhoH"
      },
      "source": [
        "## Libraries"
      ]
    },
    {
      "cell_type": "code",
      "metadata": {
        "id": "jpPNdwgLjy9C"
      },
      "source": [
        "import pandas as pd\n",
        "import numpy as np\n",
        "import matplotlib.pyplot as plt\n",
        "import re"
      ],
      "execution_count": null,
      "outputs": []
    },
    {
      "cell_type": "markdown",
      "metadata": {
        "id": "CEYm5yLiEk5e"
      },
      "source": [
        "## Reading And Renaming Columns"
      ]
    },
    {
      "cell_type": "code",
      "metadata": {
        "id": "4a_08JFq3bzX"
      },
      "source": [
        "dfy = pd.read_csv('data.csv', encoding='utf-8')\n",
        "dfy.drop(columns=['fingerprint','user_id','search'],inplace=True) "
      ],
      "execution_count": null,
      "outputs": []
    },
    {
      "cell_type": "code",
      "metadata": {
        "id": "CfggOBfT1XFc"
      },
      "source": [
        "dfy.columns = ['id_x',\n",
        " 'refererPage',\n",
        " 'sec',\n",
        " 'pathname',\n",
        " 'state_id',\n",
        " 'state',\n",
        " 'city_id',\n",
        " 'city',\n",
        " 'has_houses',\n",
        " 'type_children',\n",
        " 'land_use',\n",
        " 'when_to_buy',\n",
        " 'born',\n",
        " 'age',\n",
        " 'status',\n",
        " 'childrens',\n",
        " 'credit_type',\n",
        " 'income',\n",
        " 'time_worked',\n",
        " 'credit',\n",
        " 'points',\n",
        " 'payment_method',\n",
        " 'has_credit',\n",
        " 'eventName',\n",
        " 'help',\n",
        " 'advance_payment',\n",
        " 'bureau_credit'] #Renaming columns"
      ],
      "execution_count": null,
      "outputs": []
    },
    {
      "cell_type": "markdown",
      "metadata": {
        "id": "td03OsyHEpur"
      },
      "source": [
        "## Feature Engineering"
      ]
    },
    {
      "cell_type": "code",
      "metadata": {
        "id": "RNS69osfz5-5"
      },
      "source": [
        "dfy['id_x'].astype(str)\n",
        "dfy['id_x'] = dfy['id_x'].apply(lambda x: re.sub('@?[a-zA-z]*','', x))\n",
        "dfy['id_x'] = dfy['id_x'].apply(lambda x: re.sub('[].-]*','', x))"
      ],
      "execution_count": null,
      "outputs": []
    },
    {
      "cell_type": "code",
      "metadata": {
        "id": "kN1A_MYF3DLX"
      },
      "source": [
        "dfy['id_x'] = dfy['id_x'].astype(int)\n",
        "dfy = dfy.set_index(['id_x', 'refererPage'])\n",
        "dfy = dfy.sort_index(ascending=True)\n",
        "dfy_un = pd.DataFrame(dfy.reset_index())"
      ],
      "execution_count": null,
      "outputs": []
    },
    {
      "cell_type": "markdown",
      "metadata": {
        "id": "D4CvTkiCEssS"
      },
      "source": [
        "## Coding The Funnel"
      ]
    },
    {
      "cell_type": "code",
      "metadata": {
        "id": "Wa_f8NKnKOvH"
      },
      "source": [
        "a = list(dfy_un['id_x'].unique())\n",
        "diccionario = {}\n",
        "for index in a:\n",
        "    lista = []\n",
        "\n",
        "    temp = dfy_un.query('id_x == {}'.format(index))\n",
        "    referers = list(temp['refererPage'])\n",
        "\n",
        "    funnel_base= ['precalificate','tipocredito', 'ingresoMensual', 'tiempoLaborando']\n",
        "    funnel_1 = 'sinPuntos'\n",
        "    funnel_2 = ['creditoCTA','thankYou']\n",
        "    funnel_3 = ['ingresoExtra','registerCta','cta','thankYou']\n",
        "    funnel_3_1 = 'noPerfila'\n",
        "    funnel_4 = ['buro','registerCreditoCta','creditoCTA','thankYou' ]\n",
        "    #funnel_4_1 = 'creditoInsuficiente'\n",
        "    funnel_5 = 'noAplica'\n",
        "\n",
        "    for x in funnel_base:\n",
        "        check = x in referers\n",
        "        lista.append(check)\n",
        "        \n",
        "    if all(lista):\n",
        "        if funnel_1 in referers:\n",
        "            diccionario[str(index)]='SinPuntos'\n",
        "        elif funnel_5 in referers:\n",
        "            diccionario[str(index)]='NoAplico'\n",
        "\n",
        "        elif 'registerCreditoCta' in referers and 'enganche' not in referers:\n",
        "            new_list = []\n",
        "            for x in funnel_2:\n",
        "                check = x in referers\n",
        "                new_list.append(check)\n",
        "            if all(new_list):\n",
        "                diccionario[str(index)]='Funnel_2_completo'\n",
        "\n",
        "        elif 'creditoInsuficiente' in referers and 'enganche' not in referers:\n",
        "            if 'noPerfila' in referers:\n",
        "                diccionario[str(index)]='NoPerfila'\n",
        "            else:\n",
        "                new_list = []\n",
        "                for x in funnel_3:\n",
        "                    check = x in referers\n",
        "                    new_list.append(check)\n",
        "                if all(new_list):\n",
        "                    diccionario[str(index)]='Funnel_3_completo'\n",
        "\n",
        "        elif 'enganche' in referers:\n",
        "            if 'buro' in referers:\n",
        "                if 'noPerfila' in referers:\n",
        "                    diccionario[str(index)]='NoPerfila_enganche'\n",
        "                elif 'buro' in referers and 'creditoInsuficiente' in referers:\n",
        "                    new_list = []\n",
        "                    for x in funnel_3:\n",
        "                        check = x in referers\n",
        "                        new_list.append(check)\n",
        "                    if all(new_list):\n",
        "                        diccionario[str(index)]='Funnel_4_completo_insuficiente'\n",
        "\n",
        "                elif 'buro' in referers and 'registerCreditoCta' in referers:\n",
        "                    new_list = []\n",
        "                    for x in funnel_2:\n",
        "                        check = x in referers\n",
        "                        new_list.append(check)\n",
        "                    if all(new_list):\n",
        "                        diccionario[str(index)]='Funnel_4_completo_register'\n",
        "    else:\n",
        "        diccionario[str(index)]='Fracaso'"
      ],
      "execution_count": null,
      "outputs": []
    },
    {
      "cell_type": "markdown",
      "metadata": {
        "id": "JPCQ88M6EzzM"
      },
      "source": [
        "## Merging Funnel With The DataFrame And Saving It"
      ]
    },
    {
      "cell_type": "code",
      "metadata": {
        "id": "qVcpPEhEplWC"
      },
      "source": [
        "dfy_un_experimental = dfy_un.copy()\n",
        "\n",
        "indices = list(diccionario.keys())\n",
        "resultados = list(diccionario.values())\n",
        "lista_de_resultados = []\n",
        "for value in list(dfy_un_experimental['id_x']):\n",
        "    if str(value) in indices:\n",
        "        lista_de_resultados.append(str(diccionario[str(value)]))\n",
        "    else:\n",
        "        lista_de_resultados.append('NoEntroAlFunnel')\n",
        "\n",
        "dfy_un_experimental['Funnel_Result'] = pd.Series(lista_de_resultados)\n",
        "dfy_un_experimental = dfy_un_experimental.sort_values(by='id_x', ascending=True)\n",
        "dfy_un_experimental.to_csv('funnelFinal.csv')"
      ],
      "execution_count": null,
      "outputs": []
    },
    {
      "cell_type": "markdown",
      "metadata": {
        "id": "cHm7HrujEXwf"
      },
      "source": [
        "# Data Analysis Answering The Questions"
      ]
    },
    {
      "cell_type": "markdown",
      "metadata": {
        "id": "8RgvS5Rlpq6G"
      },
      "source": [
        "## How many funnels were in september for Estado de México and Baja California?\n",
        "\n"
      ]
    },
    {
      "cell_type": "code",
      "metadata": {
        "id": "NSfS6jhxAyHo"
      },
      "source": [
        "Q1_df = dfy_un_experimental.copy()\n",
        "Q1_df['sec'] = Q1_df['sec'].apply(lambda x: str(x))\n",
        "Q1_df['mes'] = Q1_df['sec'].apply(lambda x: x[5:7])"
      ],
      "execution_count": null,
      "outputs": []
    },
    {
      "cell_type": "code",
      "metadata": {
        "id": "Oq5tROXlEa3y"
      },
      "source": [
        "Q1_edo = Q1_df.query('mes==\"09\" and state == \"Estado de México\"')\n",
        "Q1_edo = Q1_edo.query('Funnel_Result == \"Funnel_2_completo\" or Funnel_Result == \"Funnel_3_completo\" or Funnel_Result == \"Funnel_4_completo_insuficiente\" or Funnel_Result == \"Funnel_4_completo_register\"')\n",
        "Q1_edo = Q1_edo.drop_duplicates(subset='id_x')\n",
        "\n",
        "Q1_cali = Q1_df.query('mes==\"09\" and state == \"Baja California\"')\n",
        "Q1_cali = Q1_cali.query('Funnel_Result == \"Funnel_2_completo\" or Funnel_Result == \"Funnel_3_completo\" or Funnel_Result == \"Funnel_4_completo_insuficiente\" or Funnel_Result == \"Funnel_4_completo_register\"')\n",
        "Q1_cali = Q1_cali.drop_duplicates(subset='id_x')"
      ],
      "execution_count": null,
      "outputs": []
    },
    {
      "cell_type": "code",
      "metadata": {
        "colab": {
          "base_uri": "https://localhost:8080/"
        },
        "id": "uNGhRh3DH1m-",
        "outputId": "5e6e7504-280b-410a-a979-487064380093"
      },
      "source": [
        "Q1_edo.shape"
      ],
      "execution_count": null,
      "outputs": [
        {
          "output_type": "execute_result",
          "data": {
            "text/plain": [
              "(28, 29)"
            ]
          },
          "metadata": {
            "tags": []
          },
          "execution_count": 16
        }
      ]
    },
    {
      "cell_type": "code",
      "metadata": {
        "colab": {
          "base_uri": "https://localhost:8080/"
        },
        "id": "qlRlPQQ9Ja1c",
        "outputId": "f15856df-580a-4ae1-a1df-d92570e8d371"
      },
      "source": [
        "Q1_cali.shape"
      ],
      "execution_count": null,
      "outputs": [
        {
          "output_type": "execute_result",
          "data": {
            "text/plain": [
              "(1, 29)"
            ]
          },
          "metadata": {
            "tags": []
          },
          "execution_count": 17
        }
      ]
    },
    {
      "cell_type": "markdown",
      "metadata": {
        "id": "Aqctto4aLy7g"
      },
      "source": [
        "## In what state did we lose the most funnels?"
      ]
    },
    {
      "cell_type": "code",
      "metadata": {
        "colab": {
          "base_uri": "https://localhost:8080/"
        },
        "id": "60r1AA9yTGhi",
        "outputId": "0f68eddb-2c74-48e2-9ac1-e8b5d1678910"
      },
      "source": [
        "dfy_edos = dfy_un_experimental.query('Funnel_Result != \"Funnel_2_completo\" and Funnel_Result != \"Funnel_3_completo\" and Funnel_Result != \"Funnel_4_completo_insuficiente\" and Funnel_Result != \"Funnel_4_completo_register\"')\n",
        "dfy_edos['Funnel_Result'].value_counts()"
      ],
      "execution_count": null,
      "outputs": [
        {
          "output_type": "execute_result",
          "data": {
            "text/plain": [
              "Fracaso               22564\n",
              "NoEntroAlFunnel        9301\n",
              "SinPuntos              4682\n",
              "NoPerfila               988\n",
              "NoAplico                171\n",
              "NoPerfila_enganche      163\n",
              "Name: Funnel_Result, dtype: int64"
            ]
          },
          "metadata": {
            "tags": []
          },
          "execution_count": 18
        }
      ]
    },
    {
      "cell_type": "code",
      "metadata": {
        "colab": {
          "base_uri": "https://localhost:8080/"
        },
        "id": "Tk10WJdBWZmQ",
        "outputId": "c54f8d20-74c3-4c81-a5d8-117e94dba43c"
      },
      "source": [
        "dfy_edos = dfy_edos.drop_duplicates(subset='id_x')\n",
        "dfy_edos.shape"
      ],
      "execution_count": null,
      "outputs": [
        {
          "output_type": "execute_result",
          "data": {
            "text/plain": [
              "(5897, 28)"
            ]
          },
          "metadata": {
            "tags": []
          },
          "execution_count": 19
        }
      ]
    },
    {
      "cell_type": "code",
      "metadata": {
        "id": "nmqmMs_WWkeI"
      },
      "source": [
        "dfy_edos['state'].value_counts().to_csv('q2.csv')"
      ],
      "execution_count": null,
      "outputs": []
    },
    {
      "cell_type": "markdown",
      "metadata": {
        "id": "qvo_VTz_Mol8"
      },
      "source": [
        "## What is the profile for the people who finish the pre-qualifier?"
      ]
    },
    {
      "cell_type": "code",
      "metadata": {
        "id": "83F7qiJBWpWV"
      },
      "source": [
        "df_pre = dfy_un_experimental.query('refererPage == \"precalificate\"')\n",
        "df_pre = df_pre.query(\n",
        "    'state != \"0\" and city != \"0\" and type_children != \"0\" and when_to_buy != \"0\" and born != \"0\" ')\n",
        "df_pre = df_pre.drop_duplicates(subset='id_x')"
      ],
      "execution_count": null,
      "outputs": []
    },
    {
      "cell_type": "code",
      "metadata": {
        "colab": {
          "base_uri": "https://localhost:8080/"
        },
        "id": "wW8mHLms3GSu",
        "outputId": "a053c33f-42ab-4c79-f693-1081c5f299fe"
      },
      "source": [
        "df_pre.shape"
      ],
      "execution_count": null,
      "outputs": [
        {
          "output_type": "execute_result",
          "data": {
            "text/plain": [
              "(698, 28)"
            ]
          },
          "metadata": {
            "tags": []
          },
          "execution_count": 48
        }
      ]
    },
    {
      "cell_type": "markdown",
      "metadata": {
        "id": "7SpM0SgUNEMF"
      },
      "source": [
        "## What proportion of users from infonavit credit don't have enough points?"
      ]
    },
    {
      "cell_type": "code",
      "metadata": {
        "colab": {
          "base_uri": "https://localhost:8080/"
        },
        "id": "hd9blTsYeZYF",
        "outputId": "f665551f-6a11-4f39-dfb1-d8dcfaada4a2"
      },
      "source": [
        "dfy_un_experimental['credit_type'].value_counts()"
      ],
      "execution_count": null,
      "outputs": [
        {
          "output_type": "execute_result",
          "data": {
            "text/plain": [
              "infonavit    16630\n",
              "0            13542\n",
              "bancario      7899\n",
              "fovissste     2676\n",
              "Name: credit_type, dtype: int64"
            ]
          },
          "metadata": {
            "tags": []
          },
          "execution_count": 22
        }
      ]
    },
    {
      "cell_type": "code",
      "metadata": {
        "id": "ugwILYBgZ7Rc"
      },
      "source": [
        "dinfona = dfy_un_experimental.query('credit_type == \"infonavit\"')"
      ],
      "execution_count": null,
      "outputs": []
    },
    {
      "cell_type": "code",
      "metadata": {
        "id": "_mN7IjR7e5sL"
      },
      "source": [
        "dinfona_puntos = dinfona.query('points < 116')\n",
        "dinfona_puntos = dinfona_puntos.drop_duplicates(subset='id_x', keep='first')\n",
        "dinfona_puntos_mayor = dinfona.query('points >= 116')\n",
        "dinfona_puntos_mayor = dinfona_puntos_mayor.drop_duplicates(subset='id_x', keep='first')\n"
      ],
      "execution_count": null,
      "outputs": []
    },
    {
      "cell_type": "code",
      "metadata": {
        "colab": {
          "base_uri": "https://localhost:8080/"
        },
        "id": "4cbob8IuVKm5",
        "outputId": "b9f509ed-66df-49eb-ca1b-48cd089a9e8e"
      },
      "source": [
        "dinfona_puntos_indexed = dinfona_puntos.set_index('id_x')\n",
        "dinfona_puntos_indexed.shape"
      ],
      "execution_count": null,
      "outputs": [
        {
          "output_type": "execute_result",
          "data": {
            "text/plain": [
              "(1621, 27)"
            ]
          },
          "metadata": {
            "tags": []
          },
          "execution_count": 25
        }
      ]
    },
    {
      "cell_type": "code",
      "metadata": {
        "id": "YhbYUT22Tq-9"
      },
      "source": [
        "listar = []\n",
        "for x in list(dinfona_puntos['id_x']):\n",
        "    if x in list(dinfona_puntos_mayor['id_x']):\n",
        "        dinfona_puntos_indexed.drop(index=x, inplace=True)\n",
        "    else:\n",
        "        continue"
      ],
      "execution_count": null,
      "outputs": []
    },
    {
      "cell_type": "code",
      "metadata": {
        "colab": {
          "base_uri": "https://localhost:8080/"
        },
        "id": "q76gQpjsZrOg",
        "outputId": "564427b0-dd4b-4748-dab8-68700e277381"
      },
      "source": [
        "dinfona_puntos_mayor.shape"
      ],
      "execution_count": null,
      "outputs": [
        {
          "output_type": "execute_result",
          "data": {
            "text/plain": [
              "(1878, 28)"
            ]
          },
          "metadata": {
            "tags": []
          },
          "execution_count": 27
        }
      ]
    },
    {
      "cell_type": "code",
      "metadata": {
        "colab": {
          "base_uri": "https://localhost:8080/"
        },
        "id": "LyPWaeG4Uygm",
        "outputId": "bdd4839b-5427-4d5f-9b0c-d8d517c41223"
      },
      "source": [
        "dinfona_puntos_indexed.shape"
      ],
      "execution_count": null,
      "outputs": [
        {
          "output_type": "execute_result",
          "data": {
            "text/plain": [
              "(638, 27)"
            ]
          },
          "metadata": {
            "tags": []
          },
          "execution_count": 28
        }
      ]
    },
    {
      "cell_type": "code",
      "metadata": {
        "colab": {
          "base_uri": "https://localhost:8080/"
        },
        "id": "0YxfwN-dZpO9",
        "outputId": "e29f1025-ede7-4297-fc2f-1b4dfcb833bb"
      },
      "source": [
        "resultado = 638 / 2516\n",
        "resultado = round(resultado,2)\n",
        "resultado"
      ],
      "execution_count": null,
      "outputs": [
        {
          "output_type": "execute_result",
          "data": {
            "text/plain": [
              "0.25"
            ]
          },
          "metadata": {
            "tags": []
          },
          "execution_count": 66
        }
      ]
    },
    {
      "cell_type": "markdown",
      "metadata": {
        "id": "GCWuDMXyNN9l"
      },
      "source": [
        "## How many unique users do more than one exercise in the pre-qualifier?"
      ]
    },
    {
      "cell_type": "code",
      "metadata": {
        "id": "tm-a5oLshZua"
      },
      "source": [
        "df_mas = dfy_un_experimental.query('refererPage == \"precalificate\"')\n",
        "#df_mas = df_pre.query(\n",
        "#    'state != \"0\" or city != \"0\" or type_children != \"0\" or when_to_buy != \"0\" or born != \"0\"')\n",
        "#df_mas = df_pre.drop_duplicates(subset='id_x')"
      ],
      "execution_count": null,
      "outputs": []
    },
    {
      "cell_type": "code",
      "metadata": {
        "colab": {
          "base_uri": "https://localhost:8080/"
        },
        "id": "hx-7OOC4hmNe",
        "outputId": "410bebba-98ea-48f9-bb41-7985d0ecbdec"
      },
      "source": [
        "df_mas = df_mas[['id_x','when_to_buy','city','type_children','born','age']]\n",
        "df_mas.shape"
      ],
      "execution_count": null,
      "outputs": [
        {
          "output_type": "execute_result",
          "data": {
            "text/plain": [
              "(6308, 6)"
            ]
          },
          "metadata": {
            "tags": []
          },
          "execution_count": 31
        }
      ]
    },
    {
      "cell_type": "code",
      "metadata": {
        "colab": {
          "base_uri": "https://localhost:8080/"
        },
        "id": "MP9C5FpAtYO1",
        "outputId": "cd2a7884-bfeb-4c9f-fa79-c962042848f9"
      },
      "source": [
        "c = df_mas.drop_duplicates(subset='id_x')\n",
        "c.shape"
      ],
      "execution_count": null,
      "outputs": [
        {
          "output_type": "execute_result",
          "data": {
            "text/plain": [
              "(3455, 6)"
            ]
          },
          "metadata": {
            "tags": []
          },
          "execution_count": 32
        }
      ]
    },
    {
      "cell_type": "code",
      "metadata": {
        "id": "Hbr8n7VuiBWI"
      },
      "source": [
        "df_mas['when_bool'] = df_mas['when_to_buy'] != \"0\"\n",
        "df_mas['city_bool'] = df_mas['city'] != \"0\"\n",
        "df_mas['type_bool'] = df_mas['type_children'] != \"0\"\n",
        "df_mas['born_bool'] = df_mas['born'] != \"0\""
      ],
      "execution_count": null,
      "outputs": []
    },
    {
      "cell_type": "code",
      "metadata": {
        "id": "_6qUHP_opZvW"
      },
      "source": [
        "df_aver = df_mas[['when_bool',\t'city_bool','type_bool'\t,'born_bool']]\n",
        "resultados = []\n",
        "for row in df_aver.values:\n",
        "    r = pd.Series(row).sum()\n",
        "    if r >= 2:\n",
        "        resultados.append(True)\n",
        "    else:\n",
        "        resultados.append(False)"
      ],
      "execution_count": null,
      "outputs": []
    },
    {
      "cell_type": "code",
      "metadata": {
        "id": "Sr36_tgYrL5V"
      },
      "source": [
        "df_mas['resultados_2mas'] = resultados"
      ],
      "execution_count": null,
      "outputs": []
    },
    {
      "cell_type": "code",
      "metadata": {
        "id": "j5Y1tDhDyJ8I"
      },
      "source": [
        "res = pd.Series(resultados)"
      ],
      "execution_count": null,
      "outputs": []
    },
    {
      "cell_type": "code",
      "metadata": {
        "id": "6S0cpSUR0fmm"
      },
      "source": [
        "df_mas_true = df_mas.query('resultados_2mas == True')\n",
        "df_mas_true= df_mas_true.drop_duplicates(subset='id_x')\n",
        "df_mas_false = df_mas.query('resultados_2mas == False')\n",
        "df_mas_false_= df_mas_false.drop_duplicates(subset='id_x')"
      ],
      "execution_count": null,
      "outputs": []
    },
    {
      "cell_type": "code",
      "metadata": {
        "id": "FhLeVVCV1nZv"
      },
      "source": [
        "verdaderos = list(df_mas_true['id_x'])"
      ],
      "execution_count": null,
      "outputs": []
    },
    {
      "cell_type": "code",
      "metadata": {
        "id": "74NM8tDg2Q5X"
      },
      "source": [
        "comparacion = []\n",
        "for id in list(df_mas_false['id_x']):\n",
        "    \n",
        "    if id in list(df_mas_true['id_x']):\n",
        "        comparacion.append(True)\n",
        "    else:\n",
        "        comparacion.append(False)"
      ],
      "execution_count": null,
      "outputs": []
    },
    {
      "cell_type": "code",
      "metadata": {
        "colab": {
          "base_uri": "https://localhost:8080/"
        },
        "id": "u-GxWV9T3IqF",
        "outputId": "8470fa76-0754-4902-d2d2-5e2f42d2434a"
      },
      "source": [
        "df_mas_false['comparacion'] = comparacion"
      ],
      "execution_count": null,
      "outputs": [
        {
          "output_type": "stream",
          "text": [
            "/usr/local/lib/python3.7/dist-packages/ipykernel_launcher.py:1: SettingWithCopyWarning: \n",
            "A value is trying to be set on a copy of a slice from a DataFrame.\n",
            "Try using .loc[row_indexer,col_indexer] = value instead\n",
            "\n",
            "See the caveats in the documentation: https://pandas.pydata.org/pandas-docs/stable/user_guide/indexing.html#returning-a-view-versus-a-copy\n",
            "  \"\"\"Entry point for launching an IPython kernel.\n"
          ],
          "name": "stderr"
        }
      ]
    },
    {
      "cell_type": "code",
      "metadata": {
        "colab": {
          "base_uri": "https://localhost:8080/"
        },
        "id": "PW89v25I3V3R",
        "outputId": "c5ed9a33-6068-4fd2-f0b9-47157123bad2"
      },
      "source": [
        "df_mas_false['comparacion'].sum()"
      ],
      "execution_count": null,
      "outputs": [
        {
          "output_type": "execute_result",
          "data": {
            "text/plain": [
              "351"
            ]
          },
          "metadata": {
            "tags": []
          },
          "execution_count": 41
        }
      ]
    },
    {
      "cell_type": "code",
      "metadata": {
        "id": "4vB3fFzKmiJ1"
      },
      "source": [
        "df_mas_false_final = df_mas_false.query('comparacion == False')"
      ],
      "execution_count": null,
      "outputs": []
    },
    {
      "cell_type": "code",
      "metadata": {
        "colab": {
          "base_uri": "https://localhost:8080/"
        },
        "id": "N2oipr883d5Y",
        "outputId": "87b31845-5724-406b-dda2-3e833d3ad92e"
      },
      "source": [
        "df_mas_false_final.shape"
      ],
      "execution_count": null,
      "outputs": [
        {
          "output_type": "execute_result",
          "data": {
            "text/plain": [
              "(4432, 12)"
            ]
          },
          "metadata": {
            "tags": []
          },
          "execution_count": 43
        }
      ]
    },
    {
      "cell_type": "code",
      "metadata": {
        "colab": {
          "base_uri": "https://localhost:8080/"
        },
        "id": "-xmDNwaf385S",
        "outputId": "acc53491-08b3-4ba5-eaf2-3ece64031f3f"
      },
      "source": [
        "df_mas_true.shape"
      ],
      "execution_count": null,
      "outputs": [
        {
          "output_type": "execute_result",
          "data": {
            "text/plain": [
              "(882, 11)"
            ]
          },
          "metadata": {
            "tags": []
          },
          "execution_count": 44
        }
      ]
    },
    {
      "cell_type": "code",
      "metadata": {
        "colab": {
          "base_uri": "https://localhost:8080/",
          "height": 402
        },
        "id": "3lZTEHrX5hfP",
        "outputId": "8bd8e037-82e9-4cdd-d92c-ebad72b772b0"
      },
      "source": [
        "df_mas_true"
      ],
      "execution_count": null,
      "outputs": [
        {
          "output_type": "execute_result",
          "data": {
            "text/html": [
              "<div>\n",
              "<style scoped>\n",
              "    .dataframe tbody tr th:only-of-type {\n",
              "        vertical-align: middle;\n",
              "    }\n",
              "\n",
              "    .dataframe tbody tr th {\n",
              "        vertical-align: top;\n",
              "    }\n",
              "\n",
              "    .dataframe thead th {\n",
              "        text-align: right;\n",
              "    }\n",
              "</style>\n",
              "<table border=\"1\" class=\"dataframe\">\n",
              "  <thead>\n",
              "    <tr style=\"text-align: right;\">\n",
              "      <th></th>\n",
              "      <th>id_x</th>\n",
              "      <th>when_to_buy</th>\n",
              "      <th>city</th>\n",
              "      <th>type_children</th>\n",
              "      <th>born</th>\n",
              "      <th>age</th>\n",
              "      <th>when_bool</th>\n",
              "      <th>city_bool</th>\n",
              "      <th>type_bool</th>\n",
              "      <th>born_bool</th>\n",
              "      <th>resultados_2mas</th>\n",
              "    </tr>\n",
              "  </thead>\n",
              "  <tbody>\n",
              "    <tr>\n",
              "      <th>157</th>\n",
              "      <td>74</td>\n",
              "      <td>Inmediato</td>\n",
              "      <td>Morelia</td>\n",
              "      <td>casa</td>\n",
              "      <td>1955/12/13</td>\n",
              "      <td>64</td>\n",
              "      <td>True</td>\n",
              "      <td>True</td>\n",
              "      <td>True</td>\n",
              "      <td>True</td>\n",
              "      <td>True</td>\n",
              "    </tr>\n",
              "    <tr>\n",
              "      <th>175</th>\n",
              "      <td>93</td>\n",
              "      <td>6a1</td>\n",
              "      <td>Tlajomulco de Zúñiga</td>\n",
              "      <td>casa</td>\n",
              "      <td>1996/09/16</td>\n",
              "      <td>23</td>\n",
              "      <td>True</td>\n",
              "      <td>True</td>\n",
              "      <td>True</td>\n",
              "      <td>True</td>\n",
              "      <td>True</td>\n",
              "    </tr>\n",
              "    <tr>\n",
              "      <th>188</th>\n",
              "      <td>96</td>\n",
              "      <td>Inmediato</td>\n",
              "      <td>Iztacalco</td>\n",
              "      <td>casa</td>\n",
              "      <td>1964/07/10</td>\n",
              "      <td>55</td>\n",
              "      <td>True</td>\n",
              "      <td>True</td>\n",
              "      <td>True</td>\n",
              "      <td>True</td>\n",
              "      <td>True</td>\n",
              "    </tr>\n",
              "    <tr>\n",
              "      <th>231</th>\n",
              "      <td>107</td>\n",
              "      <td>Inmediato</td>\n",
              "      <td>Chalco</td>\n",
              "      <td>casa</td>\n",
              "      <td>1986/05/28</td>\n",
              "      <td>33</td>\n",
              "      <td>True</td>\n",
              "      <td>True</td>\n",
              "      <td>True</td>\n",
              "      <td>True</td>\n",
              "      <td>True</td>\n",
              "    </tr>\n",
              "    <tr>\n",
              "      <th>273</th>\n",
              "      <td>110</td>\n",
              "      <td>3a6</td>\n",
              "      <td>Apodaca</td>\n",
              "      <td>casa</td>\n",
              "      <td>1991/06/17</td>\n",
              "      <td>29</td>\n",
              "      <td>True</td>\n",
              "      <td>True</td>\n",
              "      <td>True</td>\n",
              "      <td>True</td>\n",
              "      <td>True</td>\n",
              "    </tr>\n",
              "    <tr>\n",
              "      <th>...</th>\n",
              "      <td>...</td>\n",
              "      <td>...</td>\n",
              "      <td>...</td>\n",
              "      <td>...</td>\n",
              "      <td>...</td>\n",
              "      <td>...</td>\n",
              "      <td>...</td>\n",
              "      <td>...</td>\n",
              "      <td>...</td>\n",
              "      <td>...</td>\n",
              "      <td>...</td>\n",
              "    </tr>\n",
              "    <tr>\n",
              "      <th>40530</th>\n",
              "      <td>23072</td>\n",
              "      <td>Inmediato</td>\n",
              "      <td>0</td>\n",
              "      <td>casa</td>\n",
              "      <td>1995/03/18</td>\n",
              "      <td>25</td>\n",
              "      <td>True</td>\n",
              "      <td>False</td>\n",
              "      <td>True</td>\n",
              "      <td>True</td>\n",
              "      <td>True</td>\n",
              "    </tr>\n",
              "    <tr>\n",
              "      <th>40538</th>\n",
              "      <td>23075</td>\n",
              "      <td>Inmediato</td>\n",
              "      <td>Guadalajara</td>\n",
              "      <td>casa</td>\n",
              "      <td>1993/01/27</td>\n",
              "      <td>27</td>\n",
              "      <td>True</td>\n",
              "      <td>True</td>\n",
              "      <td>True</td>\n",
              "      <td>True</td>\n",
              "      <td>True</td>\n",
              "    </tr>\n",
              "    <tr>\n",
              "      <th>40693</th>\n",
              "      <td>23181</td>\n",
              "      <td>Inmediato</td>\n",
              "      <td>Ecatepec de Morelos</td>\n",
              "      <td>casa</td>\n",
              "      <td>1979/03/27</td>\n",
              "      <td>41</td>\n",
              "      <td>True</td>\n",
              "      <td>True</td>\n",
              "      <td>True</td>\n",
              "      <td>True</td>\n",
              "      <td>True</td>\n",
              "    </tr>\n",
              "    <tr>\n",
              "      <th>40704</th>\n",
              "      <td>23184</td>\n",
              "      <td>Inmediato</td>\n",
              "      <td>Ecatepec de Morelos</td>\n",
              "      <td>casa</td>\n",
              "      <td>1984/08/17</td>\n",
              "      <td>35</td>\n",
              "      <td>True</td>\n",
              "      <td>True</td>\n",
              "      <td>True</td>\n",
              "      <td>True</td>\n",
              "      <td>True</td>\n",
              "    </tr>\n",
              "    <tr>\n",
              "      <th>40740</th>\n",
              "      <td>23201</td>\n",
              "      <td>Inmediato</td>\n",
              "      <td>Guadalajara</td>\n",
              "      <td>casa</td>\n",
              "      <td>1980/01/01</td>\n",
              "      <td>40</td>\n",
              "      <td>True</td>\n",
              "      <td>True</td>\n",
              "      <td>True</td>\n",
              "      <td>True</td>\n",
              "      <td>True</td>\n",
              "    </tr>\n",
              "  </tbody>\n",
              "</table>\n",
              "<p>882 rows × 11 columns</p>\n",
              "</div>"
            ],
            "text/plain": [
              "        id_x when_to_buy  ... born_bool resultados_2mas\n",
              "157       74   Inmediato  ...      True            True\n",
              "175       93         6a1  ...      True            True\n",
              "188       96   Inmediato  ...      True            True\n",
              "231      107   Inmediato  ...      True            True\n",
              "273      110         3a6  ...      True            True\n",
              "...      ...         ...  ...       ...             ...\n",
              "40530  23072   Inmediato  ...      True            True\n",
              "40538  23075   Inmediato  ...      True            True\n",
              "40693  23181   Inmediato  ...      True            True\n",
              "40704  23184   Inmediato  ...      True            True\n",
              "40740  23201   Inmediato  ...      True            True\n",
              "\n",
              "[882 rows x 11 columns]"
            ]
          },
          "metadata": {
            "tags": []
          },
          "execution_count": 45
        }
      ]
    },
    {
      "cell_type": "code",
      "metadata": {
        "id": "zd6Za2cybVq-"
      },
      "source": [
        "df_pre['state'].value_counts().to_csv('q3_state.csv')\n",
        "df_pre.to_csv('q3_dataset.csv')\n",
        "df_pre.describe().to_csv('q3_described.csv')"
      ],
      "execution_count": null,
      "outputs": []
    },
    {
      "cell_type": "markdown",
      "metadata": {
        "id": "J5kJ-Q1I4cE2"
      },
      "source": [
        "## Any finding: The funnel completed profiles and the credit given distribution"
      ]
    },
    {
      "cell_type": "code",
      "metadata": {
        "id": "q5XQvaC14crk"
      },
      "source": [
        "dfy_winners = dfy_un_experimental.query('Funnel_Result == \"Funnel_2_completo\" or Funnel_Result == \"Funnel_2_completo\" or Funnel_Result == \"Funnel_3_completo\" or Funnel_Result == \"Funnel_4_completo_register\" or Funnel_Result == \"Funnel_4_completo_insuficiente\" ')"
      ],
      "execution_count": null,
      "outputs": []
    },
    {
      "cell_type": "code",
      "metadata": {
        "id": "zu-GbZoO5V_B"
      },
      "source": [
        "dfy_winners = dfy_winners.drop_duplicates(subset='id_x')"
      ],
      "execution_count": null,
      "outputs": []
    },
    {
      "cell_type": "code",
      "metadata": {
        "id": "_lPT1pji4Kbp"
      },
      "source": [
        "dfy_winners.to_csv('q6_winners.csv', index=False)"
      ],
      "execution_count": null,
      "outputs": []
    },
    {
      "cell_type": "code",
      "metadata": {
        "colab": {
          "base_uri": "https://localhost:8080/",
          "height": 265
        },
        "id": "qVfN14Hf6d3b",
        "outputId": "101cd5d7-74e4-4730-9e4a-b80ba77d1f45"
      },
      "source": [
        "dfy_winners_age = dfy_winners.query('age != 0')\n",
        "dfy_winners_age['age'].hist(bins=20)\n",
        "dfy_winners_age.to_csv('age_dist.csv')"
      ],
      "execution_count": null,
      "outputs": [
        {
          "output_type": "display_data",
          "data": {
            "image/png": "[encoded data removed]",
            "text/plain": [
              "<Figure size 432x288 with 1 Axes>"
            ]
          },
          "metadata": {
            "tags": [],
            "needs_background": "light"
          }
        }
      ]
    },
    {
      "cell_type": "code",
      "metadata": {
        "id": "j3hdQLE6tUQ_"
      },
      "source": [
        "dfy_winners_described = round(dfy_winners.describe(),2)\n",
        "dfy_winners_described.to_csv('q6_winners_described.csv', index=False)"
      ],
      "execution_count": null,
      "outputs": []
    },
    {
      "cell_type": "code",
      "metadata": {
        "colab": {
          "base_uri": "https://localhost:8080/",
          "height": 497
        },
        "id": "LVZYKVzV7AQ9",
        "outputId": "09ca74f7-b968-4408-bae9-03ced1b68edf"
      },
      "source": [
        "dfy_winners_credit = dfy_winners.query('credit != 0')\n",
        "plt.hist(dfy_winners_credit['credit'], bins=14)\n",
        "#dfy_winners_credit['credit'].hist(bins=10)\n",
        "dfy_winners_credit.to_csv('credit_dist.csv')\n",
        "plt.xticks([0, 250000,500000,750000,1000000,1250000,1500000,1750000,2000000,2250000,2500000, 2750000])"
      ],
      "execution_count": null,
      "outputs": [
        {
          "output_type": "execute_result",
          "data": {
            "text/plain": [
              "([<matplotlib.axis.XTick at 0x7f29207ff790>,\n",
              "  <matplotlib.axis.XTick at 0x7f2920789ad0>,\n",
              "  <matplotlib.axis.XTick at 0x7f2920789090>,\n",
              "  <matplotlib.axis.XTick at 0x7f29207f5550>,\n",
              "  <matplotlib.axis.XTick at 0x7f2920730590>,\n",
              "  <matplotlib.axis.XTick at 0x7f2920730ad0>,\n",
              "  <matplotlib.axis.XTick at 0x7f2920730d10>,\n",
              "  <matplotlib.axis.XTick at 0x7f2920730650>,\n",
              "  <matplotlib.axis.XTick at 0x7f292073b450>,\n",
              "  <matplotlib.axis.XTick at 0x7f292073ba50>,\n",
              "  <matplotlib.axis.XTick at 0x7f292073b0d0>,\n",
              "  <matplotlib.axis.XTick at 0x7f292073e4d0>],\n",
              " <a list of 12 Text major ticklabel objects>)"
            ]
          },
          "metadata": {
            "tags": []
          },
          "execution_count": 61
        },
        {
          "output_type": "display_data",
          "data": {
            "image/png": "[encoded data removed]",
            "text/plain": [
              "<Figure size 432x288 with 1 Axes>"
            ]
          },
          "metadata": {
            "tags": [],
            "needs_background": "light"
          }
        }
      ]
    },
    {
      "cell_type": "code",
      "metadata": {
        "id": "ApNPCD3ytFry"
      },
      "source": [
        "win_credit = round(dfy_winners_credit['credit'].describe(),2)\n",
        "win_credit.to_csv('q6_credit_described.csv', index=False)\n",
        "dfy_winners_credit.to_csv('q6_credit.csv', index=False)"
      ],
      "execution_count": null,
      "outputs": []
    }
  ]
}